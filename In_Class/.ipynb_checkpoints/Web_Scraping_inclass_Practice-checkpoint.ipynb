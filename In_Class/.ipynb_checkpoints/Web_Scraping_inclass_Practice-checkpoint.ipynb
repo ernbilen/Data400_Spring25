{
 "cells": [
  {
   "cell_type": "code",
   "execution_count": 1,
   "id": "24ad25dc",
   "metadata": {},
   "outputs": [],
   "source": [
    "import pandas as pd\n",
    "from selenium import webdriver\n",
    "import time\n",
    "import random"
   ]
  },
  {
   "cell_type": "code",
   "execution_count": 2,
   "id": "a03f55a8",
   "metadata": {},
   "outputs": [],
   "source": [
    "driver = webdriver.Chrome()"
   ]
  },
  {
   "cell_type": "code",
   "execution_count": 3,
   "id": "be578ad5",
   "metadata": {},
   "outputs": [],
   "source": [
    "driver.get('https://forums.edmunds.com/discussion/2864')"
   ]
  },
  {
   "cell_type": "code",
   "execution_count": 5,
   "id": "d18bc9a9",
   "metadata": {},
   "outputs": [
    {
     "data": {
      "text/plain": [
       "'merc1'"
      ]
     },
     "execution_count": 5,
     "metadata": {},
     "output_type": "execute_result"
    }
   ],
   "source": [
    "## to get the data that you want to scrape (in this case, the username) you select the inspect code and copy XPath\n",
    "## The below is the XPath --> HTML code / tree layered, so you can kind of read it.\n",
    "\n",
    "driver.find_element('xpath', '//*[@id=\"Comment_1726631\"]/div/div[2]/div[1]/span[1]/a[2]').text\n",
    "\n",
    "# .text gave us the actual username (one of them)"
   ]
  },
  {
   "cell_type": "code",
   "execution_count": 6,
   "id": "05135b9d",
   "metadata": {},
   "outputs": [
    {
     "data": {
      "text/plain": [
       "'fredvh'"
      ]
     },
     "execution_count": 6,
     "metadata": {},
     "output_type": "execute_result"
    }
   ],
   "source": [
    "## To get all the usernames on this page...\n",
    "# first let's see the second username\n",
    "\n",
    "driver.find_element('xpath', '//*[@id=\"Comment_1735583\"]/div/div[2]/div[1]/span[1]/a[2]').text"
   ]
  },
  {
   "cell_type": "code",
   "execution_count": 10,
   "id": "f7d059ac",
   "metadata": {},
   "outputs": [
    {
     "data": {
      "text/plain": [
       "'Comment_1726631'"
      ]
     },
     "execution_count": 10,
     "metadata": {},
     "output_type": "execute_result"
    }
   ],
   "source": [
    "# to get all the usernames\n",
    "# //* is how all xpath starts and we are seeing that in the xpaths to get username it has a similar pattern\n",
    "# @id and Comment_\n",
    "\n",
    "driver.find_elements('xpath', \"//*[contains(@id, 'Comment_')]\")[0].get_attribute('id')\n",
    "\n",
    "# gives a list, so looking as first one\n",
    "# get attribute gives us the comment id - .text gave us the entirity of the comment"
   ]
  },
  {
   "cell_type": "code",
   "execution_count": 12,
   "id": "1bf555bf",
   "metadata": {},
   "outputs": [],
   "source": [
    "ids = driver.find_elements('xpath', \"//*[contains(@id, 'Comment_')]\")"
   ]
  },
  {
   "cell_type": "code",
   "execution_count": 13,
   "id": "1bb8a000",
   "metadata": {},
   "outputs": [],
   "source": [
    "comment_ids = []\n",
    "for i in ids:\n",
    "    comment_ids.append(i.get_attribute('id'))"
   ]
  },
  {
   "cell_type": "code",
   "execution_count": 14,
   "id": "86d758b6",
   "metadata": {},
   "outputs": [
    {
     "data": {
      "text/plain": [
       "['Comment_1726631',\n",
       " 'Comment_1735583',\n",
       " 'Comment_1736651',\n",
       " 'Comment_1737717',\n",
       " 'Comment_1738808',\n",
       " 'Comment_1739887',\n",
       " 'Comment_1740980',\n",
       " 'Comment_1742053',\n",
       " 'Comment_1726632',\n",
       " 'Comment_1727692',\n",
       " 'Comment_1728743',\n",
       " 'Comment_1729828',\n",
       " 'Comment_1730916',\n",
       " 'Comment_1732003',\n",
       " 'Comment_1733098',\n",
       " 'Comment_1734186',\n",
       " 'Comment_1734285',\n",
       " 'Comment_1734392',\n",
       " 'Comment_1734502',\n",
       " 'Comment_1734611',\n",
       " 'Comment_1734717',\n",
       " 'Comment_1734828',\n",
       " 'Comment_1734935',\n",
       " 'Comment_1735045',\n",
       " 'Comment_1735262',\n",
       " 'Comment_1735368',\n",
       " 'Comment_1735474',\n",
       " 'Comment_1735584',\n",
       " 'Comment_1735694',\n",
       " 'Comment_1735798',\n",
       " 'Comment_1735905',\n",
       " 'Comment_1736011',\n",
       " 'Comment_1736120',\n",
       " 'Comment_1736222',\n",
       " 'Comment_1736331',\n",
       " 'Comment_1736434',\n",
       " 'Comment_1736542',\n",
       " 'Comment_1736652',\n",
       " 'Comment_1736762',\n",
       " 'Comment_1736873',\n",
       " 'Comment_1736984',\n",
       " 'Comment_1737092',\n",
       " 'Comment_1737185',\n",
       " 'Comment_1737287',\n",
       " 'Comment_1737394',\n",
       " 'Comment_1737499',\n",
       " 'Comment_1737606',\n",
       " 'Comment_1737718',\n",
       " 'Comment_1737829',\n",
       " 'Comment_1737939']"
      ]
     },
     "execution_count": 14,
     "metadata": {},
     "output_type": "execute_result"
    }
   ],
   "source": [
    "comment_ids"
   ]
  },
  {
   "cell_type": "code",
   "execution_count": null,
   "id": "f9e1717b",
   "metadata": {},
   "outputs": [],
   "source": []
  }
 ],
 "metadata": {
  "kernelspec": {
   "display_name": "Python 3 (ipykernel)",
   "language": "python",
   "name": "python3"
  },
  "language_info": {
   "codemirror_mode": {
    "name": "ipython",
    "version": 3
   },
   "file_extension": ".py",
   "mimetype": "text/x-python",
   "name": "python",
   "nbconvert_exporter": "python",
   "pygments_lexer": "ipython3",
   "version": "3.11.5"
  }
 },
 "nbformat": 4,
 "nbformat_minor": 5
}
