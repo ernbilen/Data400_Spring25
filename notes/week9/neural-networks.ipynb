{
 "cells": [
  {
   "cell_type": "code",
   "execution_count": 174,
   "id": "6889b745",
   "metadata": {},
   "outputs": [],
   "source": [
    "import numpy as np\n",
    "import matplotlib.pyplot as plt\n",
    "\n",
    "from keras.datasets import mnist\n",
    "from keras.models import Sequential\n",
    "\n",
    "from keras.layers import Dense, Dropout, Activation\n",
    "from keras.utils import to_categorical"
   ]
  },
  {
   "cell_type": "code",
   "execution_count": 175,
   "id": "ddee8a18",
   "metadata": {},
   "outputs": [],
   "source": [
    "(X_train, y_train), (X_test, y_test) =  mnist.load_data()"
   ]
  },
  {
   "cell_type": "code",
   "execution_count": 176,
   "id": "00b56d90",
   "metadata": {},
   "outputs": [
    {
     "data": {
      "text/plain": [
       "(60000, 28, 28)"
      ]
     },
     "execution_count": 176,
     "metadata": {},
     "output_type": "execute_result"
    }
   ],
   "source": [
    "X_train.shape"
   ]
  },
  {
   "cell_type": "code",
   "execution_count": 177,
   "id": "5e049766",
   "metadata": {},
   "outputs": [
    {
     "data": {
      "image/png": "[encoded data removed]",
      "text/plain": [
       "<Figure size 640x480 with 1 Axes>"
      ]
     },
     "metadata": {},
     "output_type": "display_data"
    }
   ],
   "source": [
    "plt.imshow(X_train[10000], cmap=plt.cm.binary)\n",
    "plt.show()"
   ]
  },
  {
   "cell_type": "code",
   "execution_count": 178,
   "id": "d035a9e3",
   "metadata": {
    "scrolled": true
   },
   "outputs": [
    {
     "name": "stdout",
     "output_type": "stream",
     "text": [
      "[[  0   0   0   0   0   0   0   0   0   0   0   0   0   0   0   0   0   0\n",
      "    0   0   0   0   0   0   0   0   0   0]\n",
      " [  0   0   0   0   0   0   0   0   0   0   0   0   0   0   0   0   0   0\n",
      "    0   0   0   0   0   0   0   0   0   0]\n",
      " [  0   0   0   0   0   0   0   0   0   0   0   0   0   0   0   0   0   0\n",
      "    0   0   0   0   0   0   0   0   0   0]\n",
      " [  0   0   0   0   0   0   0   0   0   0   0   0   0   0   0   0   0   0\n",
      "    0   0   0   0   0   0   0   0   0   0]\n",
      " [  0   0   0   0   0   0   0   0   0   0   0   0   0   0   0   0   0   0\n",
      "    0   0   0   0   0   0   0   0   0   0]\n",
      " [  0   0   0   0   0   0   0   0   0  29 150 195 254 255 254 176 193 150\n",
      "   96   0   0   0   0   0   0   0   0   0]\n",
      " [  0   0   0   0   0   0   0  48 166 224 253 253 234 196 253 253 253 253\n",
      "  233   0   0   0   0   0   0   0   0   0]\n",
      " [  0   0   0   0   0  93 244 249 253 187  46  10   8   4  10 194 253 253\n",
      "  233   0   0   0   0   0   0   0   0   0]\n",
      " [  0   0   0   0   0 107 253 253 230  48   0   0   0   0   0 192 253 253\n",
      "  156   0   0   0   0   0   0   0   0   0]\n",
      " [  0   0   0   0   0   3  20  20  15   0   0   0   0   0  43 224 253 245\n",
      "   74   0   0   0   0   0   0   0   0   0]\n",
      " [  0   0   0   0   0   0   0   0   0   0   0   0   0   0 249 253 245 126\n",
      "    0   0   0   0   0   0   0   0   0   0]\n",
      " [  0   0   0   0   0   0   0   0   0   0   0  14 101 223 253 248 124   0\n",
      "    0   0   0   0   0   0   0   0   0   0]\n",
      " [  0   0   0   0   0   0   0   0   0  11 166 239 253 253 253 187  30   0\n",
      "    0   0   0   0   0   0   0   0   0   0]\n",
      " [  0   0   0   0   0   0   0   0   0  16 248 250 253 253 253 253 232 213\n",
      "  111   2   0   0   0   0   0   0   0   0]\n",
      " [  0   0   0   0   0   0   0   0   0   0   0  43  98  98 208 253 253 253\n",
      "  253 187  22   0   0   0   0   0   0   0]\n",
      " [  0   0   0   0   0   0   0   0   0   0   0   0   0   0   9  51 119 253\n",
      "  253 253  76   0   0   0   0   0   0   0]\n",
      " [  0   0   0   0   0   0   0   0   0   0   0   0   0   0   0   0   1 183\n",
      "  253 253 139   0   0   0   0   0   0   0]\n",
      " [  0   0   0   0   0   0   0   0   0   0   0   0   0   0   0   0   0 182\n",
      "  253 253 104   0   0   0   0   0   0   0]\n",
      " [  0   0   0   0   0   0   0   0   0   0   0   0   0   0   0   0  85 249\n",
      "  253 253  36   0   0   0   0   0   0   0]\n",
      " [  0   0   0   0   0   0   0   0   0   0   0   0   0   0   0  60 214 253\n",
      "  253 173  11   0   0   0   0   0   0   0]\n",
      " [  0   0   0   0   0   0   0   0   0   0   0   0   0   0  98 247 253 253\n",
      "  226   9   0   0   0   0   0   0   0   0]\n",
      " [  0   0   0   0   0   0   0   0   0   0   0   0  42 150 252 253 253 233\n",
      "   53   0   0   0   0   0   0   0   0   0]\n",
      " [  0   0   0   0   0   0  42 115  42  60 115 159 240 253 253 250 175  25\n",
      "    0   0   0   0   0   0   0   0   0   0]\n",
      " [  0   0   0   0   0   0 187 253 253 253 253 253 253 253 197  86   0   0\n",
      "    0   0   0   0   0   0   0   0   0   0]\n",
      " [  0   0   0   0   0   0 103 253 253 253 253 253 232  67   1   0   0   0\n",
      "    0   0   0   0   0   0   0   0   0   0]\n",
      " [  0   0   0   0   0   0   0   0   0   0   0   0   0   0   0   0   0   0\n",
      "    0   0   0   0   0   0   0   0   0   0]\n",
      " [  0   0   0   0   0   0   0   0   0   0   0   0   0   0   0   0   0   0\n",
      "    0   0   0   0   0   0   0   0   0   0]\n",
      " [  0   0   0   0   0   0   0   0   0   0   0   0   0   0   0   0   0   0\n",
      "    0   0   0   0   0   0   0   0   0   0]]\n"
     ]
    }
   ],
   "source": [
    "print(X_train[10000])"
   ]
  },
  {
   "cell_type": "code",
   "execution_count": 179,
   "id": "f4d7d738",
   "metadata": {},
   "outputs": [],
   "source": [
    "X_train = X_train.reshape(60000, 784)\n",
    "X_test = X_test.reshape(10000, 784)\n",
    "\n",
    "X_train = X_train.astype('float32')\n",
    "X_test = X_test.astype('float32')\n",
    "\n",
    "X_train = X_train/255\n",
    "X_test = X_test/255"
   ]
  },
  {
   "cell_type": "code",
   "execution_count": 180,
   "id": "209c820e",
   "metadata": {},
   "outputs": [],
   "source": [
    "y_train = to_categorical(y_train, 10)\n",
    "y_test = to_categorical(y_test, 10)"
   ]
  },
  {
   "cell_type": "code",
   "execution_count": 181,
   "id": "b4bc270d",
   "metadata": {},
   "outputs": [],
   "source": [
    "model = Sequential()"
   ]
  },
  {
   "cell_type": "code",
   "execution_count": 182,
   "id": "142b3ebe",
   "metadata": {},
   "outputs": [
    {
     "name": "stdout",
     "output_type": "stream",
     "text": [
      "Model: \"sequential_4\"\n",
      "_________________________________________________________________\n",
      " Layer (type)                Output Shape              Param #   \n",
      "=================================================================\n",
      " dense_12 (Dense)            (None, 500)               392500    \n",
      "                                                                 \n",
      " activation_12 (Activation)  (None, 500)               0         \n",
      "                                                                 \n",
      " dropout_8 (Dropout)         (None, 500)               0         \n",
      "                                                                 \n",
      " dense_13 (Dense)            (None, 500)               250500    \n",
      "                                                                 \n",
      " activation_13 (Activation)  (None, 500)               0         \n",
      "                                                                 \n",
      " dropout_9 (Dropout)         (None, 500)               0         \n",
      "                                                                 \n",
      " dense_14 (Dense)            (None, 10)                5010      \n",
      "                                                                 \n",
      " activation_14 (Activation)  (None, 10)                0         \n",
      "                                                                 \n",
      "=================================================================\n",
      "Total params: 648010 (2.47 MB)\n",
      "Trainable params: 648010 (2.47 MB)\n",
      "Non-trainable params: 0 (0.00 Byte)\n",
      "_________________________________________________________________\n"
     ]
    }
   ],
   "source": [
    "model.add(Dense(500, input_shape=(784,)))\n",
    "model.add(Activation('relu'))\n",
    "model.add(Dropout(0.2))\n",
    "\n",
    "model.add(Dense(500))\n",
    "model.add(Activation('relu'))\n",
    "model.add(Dropout(0.2))\n",
    "\n",
    "model.add(Dense(10))\n",
    "\n",
    "model.add(Activation('softmax'))\n",
    "\n",
    "model.summary()"
   ]
  },
  {
   "cell_type": "code",
   "execution_count": 183,
   "id": "b5f24bd1",
   "metadata": {},
   "outputs": [],
   "source": [
    "model.compile(loss='categorical_crossentropy', optimizer='adam',metrics=['accuracy'])"
   ]
  },
  {
   "cell_type": "code",
   "execution_count": 184,
   "id": "16d512b7",
   "metadata": {},
   "outputs": [
    {
     "name": "stdout",
     "output_type": "stream",
     "text": [
      "Epoch 1/5\n",
      "469/469 [==============================] - 1s 3ms/step - loss: 0.2475 - accuracy: 0.9252\n",
      "Epoch 2/5\n",
      "469/469 [==============================] - 1s 3ms/step - loss: 0.1021 - accuracy: 0.9683\n",
      "Epoch 3/5\n",
      "469/469 [==============================] - 1s 3ms/step - loss: 0.0715 - accuracy: 0.9770\n",
      "Epoch 4/5\n",
      "469/469 [==============================] - 1s 3ms/step - loss: 0.0578 - accuracy: 0.9818\n",
      "Epoch 5/5\n",
      "469/469 [==============================] - 1s 3ms/step - loss: 0.0460 - accuracy: 0.9847\n"
     ]
    },
    {
     "data": {
      "text/plain": [
       "<keras.src.callbacks.History at 0x3c7fdf970>"
      ]
     },
     "execution_count": 184,
     "metadata": {},
     "output_type": "execute_result"
    }
   ],
   "source": [
    "model.fit(X_train, y_train, batch_size=128, epochs=5, verbose=1)"
   ]
  },
  {
   "cell_type": "code",
   "execution_count": 185,
   "id": "ec9d22e0",
   "metadata": {},
   "outputs": [
    {
     "name": "stdout",
     "output_type": "stream",
     "text": [
      "313/313 [==============================] - 0s 764us/step - loss: 0.0681 - accuracy: 0.9785\n"
     ]
    },
    {
     "data": {
      "text/plain": [
       "[0.06814438849687576, 0.9785000085830688]"
      ]
     },
     "execution_count": 185,
     "metadata": {},
     "output_type": "execute_result"
    }
   ],
   "source": [
    "model.evaluate(X_test,y_test)\n",
    "#print(score[0])"
   ]
  },
  {
   "cell_type": "code",
   "execution_count": 186,
   "id": "ef8e7768",
   "metadata": {},
   "outputs": [
    {
     "name": "stdout",
     "output_type": "stream",
     "text": [
      "1875/1875 [==============================] - 1s 570us/step\n"
     ]
    }
   ],
   "source": [
    "predicted_digits = model.predict(X_train)"
   ]
  },
  {
   "cell_type": "code",
   "execution_count": 187,
   "id": "9dda2905",
   "metadata": {},
   "outputs": [
    {
     "data": {
      "text/plain": [
       "array([1.2115895e-14, 2.4474072e-11, 2.4914798e-10, 1.0000000e+00,\n",
       "       8.6842870e-13, 1.0244050e-09, 1.2206346e-16, 2.9394272e-11,\n",
       "       2.0733995e-10, 3.5607275e-10], dtype=float32)"
      ]
     },
     "execution_count": 187,
     "metadata": {},
     "output_type": "execute_result"
    }
   ],
   "source": [
    "predicted_digits[10000]"
   ]
  },
  {
   "cell_type": "code",
   "execution_count": 188,
   "id": "5ee2b54b",
   "metadata": {},
   "outputs": [
    {
     "data": {
      "image/png": "[encoded data removed]",
      "text/plain": [
       "<Figure size 640x480 with 1 Axes>"
      ]
     },
     "metadata": {},
     "output_type": "display_data"
    }
   ],
   "source": [
    "plt.bar(range(0,10),predicted_digits[10000])\n",
    "plt.xticks(np.arange(0, 10, 1))\n",
    "plt.show()"
   ]
  },
  {
   "cell_type": "code",
   "execution_count": 189,
   "id": "1914474c",
   "metadata": {},
   "outputs": [],
   "source": [
    "(X_train, y_train), (X_test, y_test) =  mnist.load_data()"
   ]
  },
  {
   "cell_type": "code",
   "execution_count": 190,
   "id": "0db31bde",
   "metadata": {},
   "outputs": [
    {
     "data": {
      "image/png": "[encoded data removed]",
      "text/plain": [
       "<Figure size 640x480 with 1 Axes>"
      ]
     },
     "metadata": {},
     "output_type": "display_data"
    }
   ],
   "source": [
    "plt.imshow(X_train[10003], cmap=plt.cm.binary)\n",
    "plt.show()"
   ]
  },
  {
   "cell_type": "markdown",
   "id": "27f00028",
   "metadata": {},
   "source": [
    "# Which digits have the most disagreement?\n",
    "\n",
    "Use \"entropy\". The idea comes from information theory, introduced by Claude Shannon in 1948. It is the foundation for how to measure uncertainty or \"information content\" in a probabilistic system.\n",
    "\n",
    "### Discrete Entropy Formula\n",
    "\n",
    "The entropy $H(p)$ of a discrete probability distribution \n",
    "$p = [p_1, p_2, \\dots, p_k]$ is defined as:\n",
    "\n",
    "$$\n",
    "H(p) = -\\sum_{i=1}^{k} p_i \\log p_i\n",
    "$$\n",
    "\n",
    "- $H(p)$ measures the uncertainty in the distribution.\n",
    "- $p_i$ is the probability of the $i$-th outcome.\n",
    "\n",
    "\n",
    "### Example:\n",
    "\n",
    "Suppose the model outputs equal probability for each digit from 0 to 9:\n",
    "\n",
    "p = [0.1, 0.1, 0.1, 0.1, 0.1, 0.1, 0.1, 0.1, 0.1, 0.1]\n",
    "\n",
    "This is a uniform distribution over 10 classes.\n",
    "\n",
    "Since all probabilities are equal:\n",
    "\n",
    "$$\n",
    "H(p) = -\\sum_{i=1}^{10} 0.1 \\log_2(0.1)\n",
    "$$\n",
    "\n",
    "Factor out the constant:\n",
    "\n",
    "$$\n",
    "H(p) = -10 \\cdot 0.1 \\cdot \\log_2(0.1)\n",
    "$$\n",
    "\n",
    "with\n",
    "\n",
    "$$\n",
    "\\log_2(0.1) \\approx -3.3219\n",
    "$$\n",
    "\n",
    "gives\n",
    "\n",
    "$$\n",
    "H(p) = -1 \\cdot (-3.3219) = 3.3219\\ \\text{bits}\n",
    "$$\n",
    "\n",
    "\n",
    "### Another example\n",
    "\n",
    "Suppose the model outputs:\n",
    "\n",
    "p = [0.82, 0.02, 0.02, 0.02, 0.02, 0.02, 0.02, 0.02, 0.02, 0.02]\n",
    "\n",
    "This means the model is pretty confident it's class 0, and gives small weight to others.\n",
    "\n",
    "#### Entropy formula (in bits):\n",
    "\n",
    "$$\n",
    "H(p) = -\\sum_{i=1}^{10} p_i \\log_2 p_i\n",
    "$$\n",
    "\n",
    "Break it into parts:\n",
    "\n",
    "- For the confident class (index 0):\n",
    "  $$\n",
    "  -0.82 \\cdot \\log_2(0.82) \\approx -0.82 \\cdot (-0.289) \\approx 0.237\n",
    "  $$\n",
    "\n",
    "- For each of the other 9 classes:\n",
    "  $$\n",
    "  -0.02 \\cdot \\log_2(0.02) \\approx -0.02 \\cdot (-5.6439) \\approx 0.1129\n",
    "  $$\n",
    "  $$\n",
    "  \\text{Multiply by 9 and get} \\\\ 9 \\cdot 0.1129 \\approx 1.016\n",
    "  $$\n",
    "\n",
    "Now add everything:\n",
    "\n",
    "$$\n",
    "H(p) \\approx 0.237 + 1.016 = 1.253\\ \\text{bits}\n",
    "$$\n",
    "\n",
    "---\n",
    "\n",
    "\n"
   ]
  },
  {
   "cell_type": "code",
   "execution_count": 191,
   "id": "b72ca57a",
   "metadata": {},
   "outputs": [],
   "source": [
    "from scipy.stats import entropy\n",
    "\n",
    "entropies = entropy(predicted_digits, axis=1)"
   ]
  },
  {
   "cell_type": "code",
   "execution_count": 192,
   "id": "75346eb6",
   "metadata": {},
   "outputs": [
    {
     "data": {
      "text/plain": [
       "4.0418698e-08"
      ]
     },
     "execution_count": 192,
     "metadata": {},
     "output_type": "execute_result"
    }
   ],
   "source": [
    "entropy(predicted_digits[10000])"
   ]
  },
  {
   "cell_type": "code",
   "execution_count": 193,
   "id": "c2710394",
   "metadata": {},
   "outputs": [
    {
     "data": {
      "text/plain": [
       "0.83259845"
      ]
     },
     "execution_count": 193,
     "metadata": {},
     "output_type": "execute_result"
    }
   ],
   "source": [
    "entropy(predicted_digits[10003])"
   ]
  },
  {
   "cell_type": "code",
   "execution_count": 194,
   "id": "dd215462",
   "metadata": {},
   "outputs": [
    {
     "data": {
      "text/plain": [
       "array([1.4687978, 1.4721569, 1.474685 , 1.5226891, 1.5548538, 1.6058671,\n",
       "       1.6160122, 1.6250185, 1.6645701, 1.716193 ], dtype=float32)"
      ]
     },
     "execution_count": 194,
     "metadata": {},
     "output_type": "execute_result"
    }
   ],
   "source": [
    "# 10 highest entropy values\n",
    "np.sort(entropies)[-10:]"
   ]
  },
  {
   "cell_type": "code",
   "execution_count": 195,
   "id": "57382740",
   "metadata": {},
   "outputs": [
    {
     "data": {
      "text/plain": [
       "array([ 8853, 54296, 30900, 23824, 30130, 32829,  8202, 36409, 59747,\n",
       "       17625])"
      ]
     },
     "execution_count": 195,
     "metadata": {},
     "output_type": "execute_result"
    }
   ],
   "source": [
    "# their locations\n",
    "np.argsort(entropies)[-10:]"
   ]
  },
  {
   "cell_type": "code",
   "execution_count": 197,
   "id": "6f862fdd",
   "metadata": {},
   "outputs": [
    {
     "data": {
      "image/png": "[encoded data removed]",
      "text/plain": [
       "<Figure size 640x480 with 1 Axes>"
      ]
     },
     "metadata": {},
     "output_type": "display_data"
    }
   ],
   "source": [
    "plt.imshow(X_train[17625], cmap=plt.cm.binary)\n",
    "plt.show()"
   ]
  },
  {
   "cell_type": "code",
   "execution_count": 198,
   "id": "721b8f97",
   "metadata": {},
   "outputs": [
    {
     "data": {
      "image/png": "[encoded data removed]",
      "text/plain": [
       "<Figure size 640x480 with 1 Axes>"
      ]
     },
     "metadata": {},
     "output_type": "display_data"
    }
   ],
   "source": [
    "plt.bar(range(0,10),predicted_digits[17625])\n",
    "plt.xticks(np.arange(0, 10, 1))\n",
    "plt.show()"
   ]
  },
  {
   "cell_type": "code",
   "execution_count": 200,
   "id": "0f867566",
   "metadata": {},
   "outputs": [
    {
     "data": {
      "text/plain": [
       "0"
      ]
     },
     "execution_count": 200,
     "metadata": {},
     "output_type": "execute_result"
    }
   ],
   "source": [
    "# what was it?\n",
    "y_train[17625]"
   ]
  },
  {
   "cell_type": "code",
   "execution_count": null,
   "id": "5045120b",
   "metadata": {},
   "outputs": [],
   "source": []
  },
  {
   "cell_type": "code",
   "execution_count": 366,
   "id": "5ec9bef2",
   "metadata": {},
   "outputs": [
    {
     "data": {
      "image/png": "[encoded data removed]",
      "text/plain": [
       "<Figure size 640x480 with 1 Axes>"
      ]
     },
     "metadata": {},
     "output_type": "display_data"
    }
   ],
   "source": [
    "## test yourself\n",
    "import cv2\n",
    "\n",
    "img = cv2.imread('/Users/eren/Dropbox/test_digit.png')\n",
    "img = cv2.resize(img,(28,28))\n",
    "img = cv2.cvtColor(img,cv2.COLOR_BGR2GRAY) # rgb to b/w\n",
    "img = cv2.bitwise_not(img) # invert black to white\n",
    "plt.imshow(img,cmap=plt.cm.binary)\n",
    "plt.show()\n",
    "\n",
    "# some processing for ML\n",
    "img = img.reshape(1, 784).astype('float32')\n",
    "img = img/255"
   ]
  },
  {
   "cell_type": "code",
   "execution_count": 367,
   "id": "e8421617",
   "metadata": {},
   "outputs": [
    {
     "data": {
      "text/plain": [
       "(1, 784)"
      ]
     },
     "execution_count": 367,
     "metadata": {},
     "output_type": "execute_result"
    }
   ],
   "source": [
    "img.shape"
   ]
  },
  {
   "cell_type": "code",
   "execution_count": 368,
   "id": "14394692",
   "metadata": {},
   "outputs": [
    {
     "name": "stdout",
     "output_type": "stream",
     "text": [
      "1/1 [==============================] - 0s 8ms/step\n",
      "[1.00158482e-04 1.82209420e-04 5.39913727e-03 1.14979325e-02\n",
      " 1.86710768e-05 2.06662007e-04 9.22658728e-06 1.08482327e-05\n",
      " 9.82555389e-01 1.97987156e-05]\n"
     ]
    }
   ],
   "source": [
    "preds = model.predict(img)[0]\n",
    "print(preds)"
   ]
  },
  {
   "cell_type": "code",
   "execution_count": 369,
   "id": "35504277",
   "metadata": {},
   "outputs": [
    {
     "data": {
      "image/png": "[encoded data removed]",
      "text/plain": [
       "<Figure size 640x480 with 1 Axes>"
      ]
     },
     "metadata": {},
     "output_type": "display_data"
    }
   ],
   "source": [
    "plt.bar(range(0,10),preds)\n",
    "plt.xticks(np.arange(0, 10, 1))\n",
    "plt.show()"
   ]
  },
  {
   "cell_type": "code",
   "execution_count": 370,
   "id": "7d13dd3a",
   "metadata": {},
   "outputs": [],
   "source": [
    "# look at what 8s are like in the data?\n",
    "eights = predicted_digits[:, 8]"
   ]
  },
  {
   "cell_type": "code",
   "execution_count": 371,
   "id": "fc76b843",
   "metadata": {},
   "outputs": [
    {
     "data": {
      "text/plain": [
       "array([1., 1., 1., 1., 1., 1., 1., 1., 1., 1.], dtype=float32)"
      ]
     },
     "execution_count": 371,
     "metadata": {},
     "output_type": "execute_result"
    }
   ],
   "source": [
    "# most confident:\n",
    "np.sort(eights)[-10:]"
   ]
  },
  {
   "cell_type": "code",
   "execution_count": 372,
   "id": "26cd75f4",
   "metadata": {},
   "outputs": [],
   "source": [
    "# Get indices\n",
    "indices = np.argsort(eights)[-10:]"
   ]
  },
  {
   "cell_type": "code",
   "execution_count": 373,
   "id": "6ac16506",
   "metadata": {
    "scrolled": false
   },
   "outputs": [
    {
     "data": {
      "image/png": "[encoded data removed]",
      "text/plain": [
       "<Figure size 640x480 with 1 Axes>"
      ]
     },
     "metadata": {},
     "output_type": "display_data"
    },
    {
     "data": {
      "image/png": "[encoded data removed]",
      "text/plain": [
       "<Figure size 640x480 with 1 Axes>"
      ]
     },
     "metadata": {},
     "output_type": "display_data"
    },
    {
     "data": {
      "image/png": "[encoded data removed]",
      "text/plain": [
       "<Figure size 640x480 with 1 Axes>"
      ]
     },
     "metadata": {},
     "output_type": "display_data"
    },
    {
     "data": {
      "image/png": "[encoded data removed]",
      "text/plain": [
       "<Figure size 640x480 with 1 Axes>"
      ]
     },
     "metadata": {},
     "output_type": "display_data"
    },
    {
     "data": {
      "image/png": "[encoded data removed]",
      "text/plain": [
       "<Figure size 640x480 with 1 Axes>"
      ]
     },
     "metadata": {},
     "output_type": "display_data"
    },
    {
     "data": {
      "image/png": "[encoded data removed]",
      "text/plain": [
       "<Figure size 640x480 with 1 Axes>"
      ]
     },
     "metadata": {},
     "output_type": "display_data"
    },
    {
     "data": {
      "image/png": "[encoded data removed]",
      "text/plain": [
       "<Figure size 640x480 with 1 Axes>"
      ]
     },
     "metadata": {},
     "output_type": "display_data"
    },
    {
     "data": {
      "image/png": "[encoded data removed]",
      "text/plain": [
       "<Figure size 640x480 with 1 Axes>"
      ]
     },
     "metadata": {},
     "output_type": "display_data"
    },
    {
     "data": {
      "image/png": "[encoded data removed]",
      "text/plain": [
       "<Figure size 640x480 with 1 Axes>"
      ]
     },
     "metadata": {},
     "output_type": "display_data"
    },
    {
     "data": {
      "image/png": "[encoded data removed]",
      "text/plain": [
       "<Figure size 640x480 with 1 Axes>"
      ]
     },
     "metadata": {},
     "output_type": "display_data"
    }
   ],
   "source": [
    "for i in indices:\n",
    "    plt.imshow(X_train[i], cmap=plt.cm.binary)\n",
    "    plt.show()"
   ]
  },
  {
   "cell_type": "code",
   "execution_count": null,
   "id": "1cc14907",
   "metadata": {},
   "outputs": [],
   "source": []
  }
 ],
 "metadata": {
  "kernelspec": {
   "display_name": "Python 3 (ipykernel)",
   "language": "python",
   "name": "python3"
  },
  "language_info": {
   "codemirror_mode": {
    "name": "ipython",
    "version": 3
   },
   "file_extension": ".py",
   "mimetype": "text/x-python",
   "name": "python",
   "nbconvert_exporter": "python",
   "pygments_lexer": "ipython3",
   "version": "3.10.9"
  }
 },
 "nbformat": 4,
 "nbformat_minor": 5
}
