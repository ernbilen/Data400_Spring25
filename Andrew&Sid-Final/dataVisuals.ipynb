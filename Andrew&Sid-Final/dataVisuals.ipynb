{
 "cells": [
  {
   "cell_type": "code",
   "execution_count": null,
   "metadata": {},
   "outputs": [],
   "source": [
    "import pandas as pd\n",
    "import seaborn as sns\n",
    "import matplotlib.pyplot as plt"
   ]
  },
  {
   "cell_type": "code",
   "execution_count": null,
   "metadata": {},
   "outputs": [],
   "source": [
    "# Load the full stats dataset\n",
    "full_data = pd.read_csv(\"nba_merged_data.csv\")  # Update with your actual filename\n",
    "playoffs_boxscore = pd.read_csv(\"nba_team_boxscores_playoffs.csv\")  # Update with your actual filename\n",
    "\n",
    "# Load the playoff wins dataset\n",
    "playoff_wins_df = pd.read_csv(\"nba_playoff_wins_2015_2025.csv\")\n",
    "\n",
    "# Merge on season and team name\n",
    "real_playoffs_df = playoffs_boxscore.merge(playoff_wins_df, on=[\"SEASON_YEAR\", \"TEAM_NAME\"], how=\"left\")\n",
    "\n",
    "real_playoffs_df = real_playoffs_df.dropna()\n",
    "\n",
    "# Reset index for clean formatting\n",
    "real_playoffs_df = real_playoffs_df.reset_index(drop=True)\n"
   ]
  },
  {
   "cell_type": "code",
   "execution_count": null,
   "metadata": {},
   "outputs": [],
   "source": [
    "unique_season_team = full_data[full_data['PLAYOFF_WINS'] == 16][['SEASON_YEAR', 'TEAM_NAME']].drop_duplicates()\n",
    "print(unique_season_team)"
   ]
  },
  {
   "cell_type": "code",
   "execution_count": null,
   "metadata": {},
   "outputs": [],
   "source": [
    "print(full_data.columns)"
   ]
  },
  {
   "cell_type": "code",
   "execution_count": null,
   "metadata": {},
   "outputs": [],
   "source": [
    "# Update the 'Type' column for playoff teams based on PLAYOFF_WINS\n",
    "def categorize_playoff_type(wins):\n",
    "    if wins == 0:\n",
    "        return \"Non-Playoff\"\n",
    "    elif 1 <= wins <= 3:\n",
    "        return \"First-Round\"\n",
    "    elif 4 <= wins <= 7:\n",
    "        return \"Second-Round\"\n",
    "    elif 8 <= wins <= 11:\n",
    "        return \"Conference-Finals\"\n",
    "    elif 12 <= wins <= 15:\n",
    "        return \"Finals\"\n",
    "    elif wins == 16:\n",
    "        return \"Champions\"\n",
    "    return \"Playoff\"\n",
    "\n",
    "playoffs = full_data.copy()\n",
    "\n",
    "# Add a column to indicate team type\n",
    "playoffs['Type'] = playoffs['PLAYOFF_WINS'].apply(categorize_playoff_type)\n",
    "\n",
    "playoffs = playoffs.loc[:, ~playoffs.columns.str.endswith('RANK')]\n",
    "\n",
    "# Add a column to indicate team type\n",
    "real_playoffs_df['Type'] = real_playoffs_df['PLAYOFF_WINS'].apply(categorize_playoff_type)\n",
    "\n",
    "real_playoffs_df = real_playoffs_df.loc[:, ~real_playoffs_df.columns.str.endswith('RANK')]\n",
    "\n",
    "real_playoffs_df[real_playoffs_df['Type'] == 'Non-Playoff']\n"
   ]
  },
  {
   "cell_type": "code",
   "execution_count": null,
   "metadata": {},
   "outputs": [],
   "source": [
    "colors = {\n",
    "    'Non-Playoff': 'lightcoral',\n",
    "    'First-Round': 'coral',\n",
    "    'Second-Round': 'darkorange',\n",
    "    'Conference-Finals': 'orange',\n",
    "    'Finals': 'orangered',\n",
    "    'Champions': 'red'\n",
    "}\n",
    "\n",
    "# Define the order for the 'Type' column\n",
    "type_order = ['Non-Playoff', 'First-Round', 'Second-Round', 'Conference-Finals', 'Finals', 'Champions']\n",
    "\n",
    "colors2 = {\n",
    "    'First-Round': 'coral',\n",
    "    'Second-Round': 'darkorange',\n",
    "    'Conference-Finals': 'orange',\n",
    "    'Finals': 'orangered',\n",
    "    'Champions': 'red'\n",
    "}\n",
    "\n",
    "# Define the order for the 'Type' column\n",
    "type_order2 = [ 'First-Round', 'Second-Round', 'Conference-Finals', 'Finals', 'Champions']\n",
    "\n",
    "numeric_columns = playoffs.select_dtypes(include=['float64', 'int64']).columns"
   ]
  },
  {
   "cell_type": "code",
   "execution_count": null,
   "metadata": {},
   "outputs": [],
   "source": [
    "# Create side-by-side box plots for each numeric column\n",
    "for column in numeric_columns:\n",
    "    fig, axes = plt.subplots(1, 2, figsize=(16, 6), sharey=True)\n",
    "    \n",
    "    # Box plot for playoffs\n",
    "    sns.boxplot(data=playoffs, x='Type', y=column, palette=colors, order=type_order, ax=axes[0])\n",
    "    axes[0].set_title(f'Box Plot of {column} (Regular Season)', fontsize=16)\n",
    "    axes[0].set_ylabel(column, fontsize=12)\n",
    "    axes[0].set_xlabel('Type', fontsize=12)\n",
    "    \n",
    "    # Box plot for playoffs_df\n",
    "    sns.boxplot(data=real_playoffs_df, x='Type', y=column, palette=colors2, order=type_order2, ax=axes[1])\n",
    "    axes[1].set_title(f'Box Plot of {column} (playoffs)', fontsize=16)\n",
    "    axes[1].set_xlabel('Type', fontsize=12)\n",
    "    \n",
    "    plt.tight_layout()\n",
    "    plt.show()"
   ]
  },
  {
   "cell_type": "code",
   "execution_count": null,
   "metadata": {},
   "outputs": [],
   "source": [
    "# Create box plots for each numeric column\n",
    "for column in numeric_columns:\n",
    "    plt.figure(figsize=(10, 6))\n",
    "    sns.boxplot(data=playoffs, x='Type', y=f'{column}', palette=colors, order=type_order)\n",
    "    plt.title(f'Box Plot of {column}', fontsize=16)\n",
    "    plt.ylabel(column, fontsize=12)\n",
    "    plt.show()"
   ]
  },
  {
   "cell_type": "code",
   "execution_count": null,
   "metadata": {},
   "outputs": [],
   "source": [
    "# Calculate the average of numeric columns for each 'Type'\n",
    "averages = playoffs.groupby('Type')[numeric_columns].mean()\n",
    "\n",
    "# Reindex the averages to match the order in type_order\n",
    "averages = averages.reindex(type_order)\n",
    "\n",
    "# Create bar plots for all numeric columns grouped by 'Type'\n",
    "for column in numeric_columns:\n",
    "    plt.figure(figsize=(10, 6))\n",
    "    averages[column].plot(kind='bar', color=[colors.get(t, 'gray') for t in type_order])\n",
    "    plt.title(f'Average {column} by Type', fontsize=16)\n",
    "    plt.xlabel('Type', fontsize=12)\n",
    "    plt.ylabel(f'Average {column}', fontsize=12)\n",
    "    plt.xticks(ticks=range(len(type_order)), labels=type_order, rotation=45)\n",
    "    plt.show()"
   ]
  },
  {
   "cell_type": "code",
   "execution_count": null,
   "metadata": {},
   "outputs": [],
   "source": [
    "champions = full_data[full_data['PLAYOFF_WINS'] == 16].drop_duplicates()\n",
    "champions"
   ]
  },
  {
   "cell_type": "code",
   "execution_count": null,
   "metadata": {},
   "outputs": [],
   "source": [
    "grouped_data = champions.groupby('SEASON_YEAR').mean()\n",
    "grouped_data"
   ]
  },
  {
   "cell_type": "code",
   "execution_count": null,
   "metadata": {},
   "outputs": [],
   "source": [
    "# Map colors to each team based on TEAM_ABBREVIATION\n",
    "team_colors = {'BOS': 'green', 'CLE': 'maroon', 'DEN': 'blue', 'GSW': 'gold', 'LAL': 'purple', \n",
    "               'MIL': 'darkgreen', 'TOR': 'red'}\n",
    "\n",
    "# Get the colors for the bars\n",
    "bar_colors = team_abbrevs['TEAM_ABBREVIATION'].map(team_colors)\n",
    "\n",
    "team_abbrevs = full_data[full_data['PLAYOFF_WINS'] == 16][['SEASON_YEAR', 'TEAM_ABBREVIATION']].drop_duplicates()\n",
    "team_abbrevs['Label'] = team_abbrevs['TEAM_ABBREVIATION'] + ' (' + team_abbrevs['SEASON_YEAR'] + ')'\n",
    "\n",
    "plt.figure(figsize=(10, 6))\n",
    "grouped_data['FG3_PCT'].plot(kind='bar', color=bar_colors[::-1])\n",
    "plt.title('Champion Average 3-Point Shooting %', fontsize=16)\n",
    "plt.xlabel('Team (Year Won)', fontsize=12)\n",
    "plt.ylabel('3P%', fontsize=12)\n",
    "plt.xticks(ticks=range(len(team_abbrevs['SEASON_YEAR'])), labels=team_abbrevs['Label'][::-1], rotation=45)\n",
    "plt.show()"
   ]
  },
  {
   "cell_type": "code",
   "execution_count": null,
   "metadata": {},
   "outputs": [],
   "source": []
  }
 ],
 "metadata": {
  "kernelspec": {
   "display_name": "Python 3",
   "language": "python",
   "name": "python3"
  },
  "language_info": {
   "codemirror_mode": {
    "name": "ipython",
    "version": 3
   },
   "file_extension": ".py",
   "mimetype": "text/x-python",
   "name": "python",
   "nbconvert_exporter": "python",
   "pygments_lexer": "ipython3",
   "version": "3.10.14"
  }
 },
 "nbformat": 4,
 "nbformat_minor": 2
}
