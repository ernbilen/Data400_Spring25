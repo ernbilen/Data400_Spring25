{
 "cells": [
  {
   "cell_type": "markdown",
   "id": "f39023b6",
   "metadata": {},
   "source": [
    "# MLB Playoff Prediction Model\n",
    "\n",
    "## Introduction\n",
    "This repository consists of a semester-long research project, created to analyze and develop a model to predict the playoff chances of MLB teams. Using data from the 2018–2024 MLB seasons on all 30 teams (excluding the 2020 COVID-shortened season), a model was built to identify the most important statistics and the thresholds needed to best predict team success.\n",
    "\n",
    "From there, a predictive model was constructed that estimates the percentage chance a team will make the playoffs. This analysis is of key importance to front offices and general managers when constructing a roster, allowing them to identify players that will help the team improve in areas of high importance—ultimately increasing the likelihood of team success.\n",
    "\n",
    "---\n",
    "\n",
    "## Our Presentation\n",
    "[Add Link Here]\n",
    "\n",
    "Here is a presentation that recaps step-by-step how we identified this question, how we obtained the data, and how we built out these predictive models. It also highlights the challenges we faced, shortcomings, and areas for future exploration within this topic.\n",
    "\n",
    "---\n",
    "\n",
    "## Description of Our Data\n",
    "The dataset contains both offensive (hitting) and defensive (pitching) statistics from all MLB teams from 2018 to 2024 (excluding 2020). The data consists of 37 statistics spanning six seasons' worth of teams. After feature analysis, we identified the following six metrics as the most significant predictors of playoff success:\n",
    "\n",
    "- `XSLG_batting`\n",
    "- `SLG_pitching`\n",
    "- `WOBACON_pitching`\n",
    "- `WOBP_pitching`\n",
    "- `XBA_batting`\n",
    "- `Chase_contact_%_pitching`\n",
    "\n",
    "### Definitions of Key Stats:\n",
    "- **XSLG_batting (Expected Slugging Percentage - Batting):**  \n",
    "  A Statcast metric that estimates what a player's slugging percentage *should be* based on the quality of contact (exit velocity and launch angle). It removes the effects of defense and ballpark.\n",
    "\n",
    "- **SLG_pitching (Slugging Percentage Allowed - Pitching):**  \n",
    "  Measures the total number of bases a pitcher allows per at-bat. It gives weight to extra-base hits and is a key indicator of how well a pitcher limits damaging contact.\n",
    "\n",
    "- **WOBACON_pitching (wOBA on Contact - Pitching):**  \n",
    "  Weighted On-Base Average *on contact only*; this stat measures how damaging the contact against a pitcher is, ignoring walks and strikeouts.\n",
    "\n",
    "- **WOBP_pitching (Weighted On-Base Average - Pitching):**  \n",
    "  A comprehensive metric that weighs how a pitcher performs across all plate appearances. It considers singles, doubles, triples, home runs, and walks with appropriate weightings.\n",
    "\n",
    "- **XBA_batting (Expected Batting Average - Batting):**  \n",
    "  Another Statcast metric that estimates a batter’s average based on the quality of contact, removing the effects of defense and luck.\n",
    "\n",
    "- **Chase_contact_%_pitching (Chase Contact Percentage - Pitching):**  \n",
    "  Percentage of times a batter makes contact when swinging at pitches outside the strike zone. Pitchers with lower percentages here often have more deceptive stuff and generate more swings and misses.\n",
    "\n",
    "---\n",
    "\n",
    "## Our Notebook\n",
    "Our Jupyter Notebook consists of the actual code we created to build these models. We imported the data and used packages like Pandas, Seaborn, Matplotlib, and Scikit-learn to create visuals and predictive models.\n",
    "\n",
    "We started with exploratory data analysis (EDA) and elementary visualizations, which helped shape the direction of our modeling process and led us to our final conclusions.\n",
    "\n",
    "---\n",
    "\n",
    "## Our Poster\n",
    "This poster was created as a visual aid to explain our process and findings. It was designed to communicate insights to non-technical stakeholders and was presented at a Poster Symposium held by Dickinson College.\n",
    "\n",
    "\n"
   ]
  },
  {
   "cell_type": "code",
   "execution_count": null,
   "id": "37a0c0c6",
   "metadata": {},
   "outputs": [],
   "source": [
    "## Links to Project Materials\n",
    "\n",
    "- 📊 [Jupyter Notebook – Model Code](notebooks/playoff_prediction_model.ipynb)\n",
    "- 🎥 [Project Presentation Slides](presentation/playoff_model_presentation.pdf)\n",
    "- 🖼️ [Research Poster – Dickinson Symposium](poster/dickinson_symposium_poster.pdf)\n",
    "- 📂 [MLB Team Data (2018–2024)](data/mlb_team_stats_2018_2024.csv)\n"
   ]
  }
 ],
 "metadata": {
  "kernelspec": {
   "display_name": "Python 3 (ipykernel)",
   "language": "python",
   "name": "python3"
  },
  "language_info": {
   "codemirror_mode": {
    "name": "ipython",
    "version": 3
   },
   "file_extension": ".py",
   "mimetype": "text/x-python",
   "name": "python",
   "nbconvert_exporter": "python",
   "pygments_lexer": "ipython3",
   "version": "3.11.4"
  }
 },
 "nbformat": 4,
 "nbformat_minor": 5
}
