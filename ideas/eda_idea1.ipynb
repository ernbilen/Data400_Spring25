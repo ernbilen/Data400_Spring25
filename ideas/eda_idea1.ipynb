{
 "cells": [
  {
   "cell_type": "markdown",
   "metadata": {},
   "source": [
    "### Exploratory Data Analysis"
   ]
  },
  {
   "cell_type": "code",
   "execution_count": 10,
   "metadata": {},
   "outputs": [],
   "source": [
    "from tabulate import tabulate"
   ]
  },
  {
   "cell_type": "code",
   "execution_count": 2,
   "metadata": {},
   "outputs": [
    {
     "name": "stdout",
     "output_type": "stream",
     "text": [
      "['Most Recent Access Data', 'Most Recent Particiation Data', 'Gender Participation', 'RaceEthnicity', 'Other Student Groups', 'K-12 Student Demographics']\n"
     ]
    }
   ],
   "source": [
    "import pandas as pd\n",
    "\n",
    "# Load the entire workbook\n",
    "excel_file_path = 'MiddleSchoolData.xlsx'\n",
    "xl = pd.ExcelFile(excel_file_path)\n",
    "\n",
    "# List all sheet names\n",
    "print(xl.sheet_names)\n",
    "\n",
    "# Read a specific sheet into a DataFrame\n",
    "#df_sheet1 = pd.read_excel(excel_file_path, sheet_name='Sheet1')\n",
    "\n",
    "# If you want to read all sheets into a dictionary of DataFrames\n",
    "dfs = {sheet_name: xl.parse(sheet_name) for sheet_name in xl.sheet_names}\n",
    "\n",
    "# Now dfs['Sheet1'], dfs['Sheet2'], etc., contain data from each sheet\n",
    "#dfs"
   ]
  },
  {
   "cell_type": "markdown",
   "metadata": {},
   "source": [
    "#### Most Recent Access Data"
   ]
  },
  {
   "cell_type": "code",
   "execution_count": 11,
   "metadata": {},
   "outputs": [
    {
     "name": "stdout",
     "output_type": "stream",
     "text": [
      "|       |   Percent of Schools that Provided Data |   Number of Middle School Offering CS |   Total Number of Middle School |   Percent of Middle School Offering CS |\n",
      "|:------|----------------------------------------:|--------------------------------------:|--------------------------------:|---------------------------------------:|\n",
      "| count |                               52        |                                52     |                           52    |                              52        |\n",
      "| mean  |                                0.692091 |                               468.865 |                         1262.73 |                               0.410832 |\n",
      "| std   |                                0.241461 |                              1671.11  |                         4515.21 |                               0.187131 |\n",
      "| min   |                                0.143695 |                                13     |                           73    |                               0.114247 |\n",
      "| 25%   |                                0.506148 |                                90.25  |                          293.75 |                               0.286079 |\n",
      "| 50%   |                                0.680198 |                               208.5   |                          453    |                               0.358464 |\n",
      "| 75%   |                                0.915115 |                               320.75  |                          784.5  |                               0.501176 |\n",
      "| max   |                                1        |                             12202     |                        32891    |                               0.918699 |\n"
     ]
    }
   ],
   "source": [
    "describeAccess = dfs['Most Recent Access Data'].describe()\n",
    "# Convert DataFrame to Markdown\n",
    "markdown_table = tabulate(describeAccess, headers='keys', tablefmt='pipe')\n",
    "\n",
    "print(markdown_table)"
   ]
  },
  {
   "cell_type": "markdown",
   "metadata": {},
   "source": [
    "#### Most Recent Particiation Data"
   ]
  },
  {
   "cell_type": "code",
   "execution_count": 8,
   "metadata": {},
   "outputs": [
    {
     "data": {
      "text/html": [
       "<div>\n",
       "<style scoped>\n",
       "    .dataframe tbody tr th:only-of-type {\n",
       "        vertical-align: middle;\n",
       "    }\n",
       "\n",
       "    .dataframe tbody tr th {\n",
       "        vertical-align: top;\n",
       "    }\n",
       "\n",
       "    .dataframe thead th {\n",
       "        text-align: right;\n",
       "    }\n",
       "</style>\n",
       "<table border=\"1\" class=\"dataframe\">\n",
       "  <thead>\n",
       "    <tr style=\"text-align: right;\">\n",
       "      <th></th>\n",
       "      <th>Unnamed: 0</th>\n",
       "      <th>Number of Middle School Female Students Enrolled in Computer Science</th>\n",
       "      <th>Percent of Middle School Female Students Enrolled in Computer Science</th>\n",
       "      <th>Number of Middle School Male Students Enrolled in Computer Science</th>\n",
       "      <th>Percent of Middle School Male Students Enrolled in Computer Science</th>\n",
       "      <th>Number of Middle School Non-Binary Students Enrolled in Computer Science</th>\n",
       "      <th>Percent of Middle School Non-Binary Students Enrolled in Computer Science</th>\n",
       "    </tr>\n",
       "  </thead>\n",
       "  <tbody>\n",
       "    <tr>\n",
       "      <th>count</th>\n",
       "      <td>52</td>\n",
       "      <td>52</td>\n",
       "      <td>52</td>\n",
       "      <td>52</td>\n",
       "      <td>52</td>\n",
       "      <td>52</td>\n",
       "      <td>52</td>\n",
       "    </tr>\n",
       "    <tr>\n",
       "      <th>unique</th>\n",
       "      <td>52</td>\n",
       "      <td>34</td>\n",
       "      <td>31</td>\n",
       "      <td>34</td>\n",
       "      <td>31</td>\n",
       "      <td>10</td>\n",
       "      <td>5</td>\n",
       "    </tr>\n",
       "    <tr>\n",
       "      <th>top</th>\n",
       "      <td>National</td>\n",
       "      <td>-</td>\n",
       "      <td>-</td>\n",
       "      <td>-</td>\n",
       "      <td>-</td>\n",
       "      <td>0</td>\n",
       "      <td>0</td>\n",
       "    </tr>\n",
       "    <tr>\n",
       "      <th>freq</th>\n",
       "      <td>1</td>\n",
       "      <td>19</td>\n",
       "      <td>19</td>\n",
       "      <td>19</td>\n",
       "      <td>19</td>\n",
       "      <td>25</td>\n",
       "      <td>26</td>\n",
       "    </tr>\n",
       "  </tbody>\n",
       "</table>\n",
       "</div>"
      ],
      "text/plain": [
       "       Unnamed: 0  \\\n",
       "count          52   \n",
       "unique         52   \n",
       "top      National   \n",
       "freq            1   \n",
       "\n",
       "       Number of Middle School Female Students Enrolled in Computer Science  \\\n",
       "count                                                  52                     \n",
       "unique                                                 34                     \n",
       "top                                                     -                     \n",
       "freq                                                   19                     \n",
       "\n",
       "       Percent of Middle School Female Students Enrolled in Computer Science  \\\n",
       "count                                                  52                      \n",
       "unique                                                 31                      \n",
       "top                                                     -                      \n",
       "freq                                                   19                      \n",
       "\n",
       "       Number of Middle School Male Students Enrolled in Computer Science  \\\n",
       "count                                                  52                   \n",
       "unique                                                 34                   \n",
       "top                                                     -                   \n",
       "freq                                                   19                   \n",
       "\n",
       "       Percent of Middle School Male Students Enrolled in Computer Science  \\\n",
       "count                                                  52                    \n",
       "unique                                                 31                    \n",
       "top                                                     -                    \n",
       "freq                                                   19                    \n",
       "\n",
       "        Number of Middle School Non-Binary Students Enrolled in Computer Science  \\\n",
       "count                                                  52                          \n",
       "unique                                                 10                          \n",
       "top                                                     0                          \n",
       "freq                                                   25                          \n",
       "\n",
       "        Percent of Middle School Non-Binary Students Enrolled in Computer Science  \n",
       "count                                                  52                          \n",
       "unique                                                  5                          \n",
       "top                                                     0                          \n",
       "freq                                                   26                          "
      ]
     },
     "execution_count": 8,
     "metadata": {},
     "output_type": "execute_result"
    }
   ],
   "source": [
    "dfs['Gender Participation'].describe()"
   ]
  },
  {
   "cell_type": "code",
   "execution_count": null,
   "metadata": {},
   "outputs": [],
   "source": []
  }
 ],
 "metadata": {
  "kernelspec": {
   "display_name": "base",
   "language": "python",
   "name": "python3"
  },
  "language_info": {
   "codemirror_mode": {
    "name": "ipython",
    "version": 3
   },
   "file_extension": ".py",
   "mimetype": "text/x-python",
   "name": "python",
   "nbconvert_exporter": "python",
   "pygments_lexer": "ipython3",
   "version": "3.9.13"
  }
 },
 "nbformat": 4,
 "nbformat_minor": 2
}
